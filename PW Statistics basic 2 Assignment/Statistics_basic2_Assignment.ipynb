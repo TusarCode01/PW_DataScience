{
 "cells": [
  {
   "cell_type": "code",
   "execution_count": 15,
   "id": "92076bac-64b4-4068-bb1d-a9cb50bcc647",
   "metadata": {},
   "outputs": [],
   "source": [
    "import pandas as pd\n",
    "import numpy as np"
   ]
  },
  {
   "cell_type": "code",
   "execution_count": 16,
   "id": "b4956134-e6f1-479d-8961-68a38104f602",
   "metadata": {},
   "outputs": [],
   "source": [
    "# Q1. What are the three measures of central tendency?\n",
    "\n",
    "#ans:  Mean ,Median , Mode"
   ]
  },
  {
   "cell_type": "code",
   "execution_count": 17,
   "id": "9060a95d-1898-4df4-a8f7-f7979eaea106",
   "metadata": {},
   "outputs": [],
   "source": [
    "# Q2. What is the difference between the mean, median, and mode? How are they used to measure the\n",
    "# central tendency of a dataset?\n",
    "\n",
    "# ans: mode is the most frequent value , mean is the average value of the dataset , median is the center value of dataset\n",
    "# we can use this by numpy .mean() , .median() , .mode()\n"
   ]
  },
  {
   "cell_type": "code",
   "execution_count": 18,
   "id": "1823ed70-d929-43e1-be72-af46c00163c5",
   "metadata": {},
   "outputs": [
    {
     "name": "stdout",
     "output_type": "stream",
     "text": [
      "0    177.01875\n",
      "dtype: float64\n",
      "0    177.0\n",
      "dtype: float64\n",
      "       0\n",
      "0  177.0\n",
      "1  178.0\n"
     ]
    }
   ],
   "source": [
    "# Q3. Measure the three measures of central tendency for the given height data:\n",
    "# [178,177,176,177,178.2,178,175,179,180,175,178.9,176.2,177,172.5,178,176.5]\n",
    "\n",
    "\n",
    "\n",
    "dataset=[178,177,176,177,178.2,178,175,179,180,175,178.9,176.2,177,172.5,178,176.5]\n",
    "df=pd.DataFrame(dataset)\n",
    "print (df.mean())\n",
    "print (df.median())\n",
    "print (df.mode())\n",
    "\n"
   ]
  },
  {
   "cell_type": "code",
   "execution_count": 19,
   "id": "1ff78f51-5839-4168-8752-1e6363a360ed",
   "metadata": {},
   "outputs": [
    {
     "name": "stdout",
     "output_type": "stream",
     "text": [
      "0    3.412292\n",
      "dtype: float64\n",
      "0    1.847239\n",
      "dtype: float64\n"
     ]
    }
   ],
   "source": [
    "# Q4. Find the standard deviation for the given data:\n",
    "# [178,177,176,177,178.2,178,175,179,180,175,178.9,176.2,177,172.5,178,176.5]\n",
    "\n",
    "\n",
    "\n",
    "dataset=[178,177,176,177,178.2,178,175,179,180,175,178.9,176.2,177,172.5,178,176.5]\n",
    "df=pd.DataFrame(dataset)\n",
    "print (df.var())\n",
    "print (df.std())\n"
   ]
  },
  {
   "cell_type": "code",
   "execution_count": 20,
   "id": "28b22bb7-6aae-4554-80ff-51aa0a484b4a",
   "metadata": {},
   "outputs": [],
   "source": [
    "# Q5. How are measures of dispersion such as range, variance, and standard deviation used to describe\n",
    "# the spread of a dataset? Provide an example.\n",
    "\n",
    "#ans the measure of dispersion shows the scatterings of the data. It tells the variation of the data from one another and \n",
    "# gives a clear idea about the distribution of the data. The measure of dispersion shows the homogeneity or the heterogeneity of the distribution of the observations.\n",
    "\n"
   ]
  },
  {
   "cell_type": "code",
   "execution_count": 21,
   "id": "7a7e8e83-a711-497e-9a19-9fda00fd0bf8",
   "metadata": {},
   "outputs": [],
   "source": [
    "# Q6. What is a Venn diagram?\n",
    "# ans: A Venn diagram is used to visually represent the differences and the similarities between two concepts. Venn diagrams are also called logic or set diagrams and are widely used in set theory, logic, mathematics, businesses, teaching, computer science, and statistics."
   ]
  },
  {
   "cell_type": "code",
   "execution_count": 22,
   "id": "4959bf6d-e6ca-48f1-8f49-5c6a13afa9de",
   "metadata": {},
   "outputs": [],
   "source": [
    "# Q7. For the two given sets A = (2,3,4,5,6,7) & B = (0,2,6,8,10). Find:\n",
    "# (i) A ∩ B\n",
    "# (ii) A ∪ B\n",
    "\n",
    "# ans: A ∩ B = {2, 6}.\n",
    "#      A ∪ B = {0, 2, 3, 4, 5, 6, 7, 8, 10}."
   ]
  },
  {
   "cell_type": "code",
   "execution_count": 23,
   "id": "a454a13d-be36-473f-b19e-801fb2afb62d",
   "metadata": {},
   "outputs": [],
   "source": [
    "# Q8. What do you understand about skewness in data?\n",
    "# ans: Skewness is a measure of the asymmetry of a distribution. A distribution is asymmetrical when its left and right side are not mirror images.\n",
    "\n"
   ]
  },
  {
   "cell_type": "code",
   "execution_count": 24,
   "id": "37e97451-70da-49a4-9dc3-f2ecdcecd8d9",
   "metadata": {},
   "outputs": [],
   "source": [
    "# Q9. If a data is right skewed then what will be the position of median with respect to mean?\n",
    "\n",
    "# ans: A right skewed distribution, the mean is greater than the median. This is because the data is skewed towards higher values, pulling the mean towards that side, while the median remains closer to the middle of the data.\n",
    "\n"
   ]
  },
  {
   "cell_type": "code",
   "execution_count": 29,
   "id": "42a3f846-be47-4f70-8efe-d065094a03e1",
   "metadata": {},
   "outputs": [],
   "source": [
    "# Q10. Explain the difference between covariance and correlation. How are these measures used in statistical analysis?\n",
    "# ans: correlation mainly measure the relation between two data on the basis of strength and direction ,in the other hand\n",
    "#      covarience mainly use for the vary of the two data how to grow in -ve or +ve direction.\n",
    "#    use case of correlation and covarience to predict the data in stock market to predict the risk"
   ]
  },
  {
   "cell_type": "code",
   "execution_count": 31,
   "id": "83404659-ea83-4bd2-87e0-6761a1b9015a",
   "metadata": {},
   "outputs": [
    {
     "name": "stdout",
     "output_type": "stream",
     "text": [
      "3.5\n"
     ]
    }
   ],
   "source": [
    "# Q11. What is the formula for calculating the sample mean? Provide an example calculation for a dataset.\n",
    "#ans:  formula =>  x̄ = (Σxi)/n\n",
    "\n",
    "# example: \n",
    "data= {1,2,3,4,5,6}\n",
    "sample_mean=sum(data)/len(data)\n",
    "print(sample_mean)"
   ]
  },
  {
   "cell_type": "code",
   "execution_count": 32,
   "id": "9768891c-7906-4c21-8407-ec8bb37ed991",
   "metadata": {},
   "outputs": [],
   "source": [
    "# Q12. For a normal distribution data what is the relationship between its measure of central tendency?\n",
    "# ans: In a normal distribution, the mean, median, and mode are all equal. This is because the normal distribution is symmetrical, meaning that the data is equally distributed on either side of the mean.\n"
   ]
  },
  {
   "cell_type": "code",
   "execution_count": 35,
   "id": "99ce78bb-f643-4746-a570-9f974a783cea",
   "metadata": {},
   "outputs": [],
   "source": [
    "#  Q13. How is covariance different from correlation?\n",
    "#  Covariance:  Measures the extent to which two variables vary together.\n",
    "#  Correlation: Measures the strength and direction of the linear relationship between two variables."
   ]
  },
  {
   "cell_type": "code",
   "execution_count": 43,
   "id": "0ac4c69b-9e52-4d2c-8603-e8bb8c9f076e",
   "metadata": {},
   "outputs": [
    {
     "name": "stdout",
     "output_type": "stream",
     "text": [
      "Before adding the outliers\n",
      "count      6.000000\n",
      "mean     175.000000\n",
      "std       14.142136\n",
      "min      160.000000\n",
      "25%      166.250000\n",
      "50%      172.500000\n",
      "75%      178.750000\n",
      "max      200.000000\n",
      "dtype: float64\n",
      "After adding the outliers\n",
      "count      7.00000\n",
      "mean     190.00000\n",
      "std       41.73328\n",
      "min      160.00000\n",
      "25%      167.50000\n",
      "50%      175.00000\n",
      "75%      190.00000\n",
      "max      280.00000\n",
      "dtype: float64\n"
     ]
    }
   ],
   "source": [
    "# Q14. How do outliers affect measures of central tendency and dispersion? Provide an example.\n",
    "# ans: outliers can effect the data set in mean ,median , mode ,range , varience prospect.\n",
    "#      outliers basically the large data point from other data point in the datase so it can effect both central trendency and varience\n",
    "\n",
    "#example \n",
    "\n",
    "b_data=[160, 165, 170, 175, 180, 200]\n",
    "df=pd.Series(b_data)\n",
    "print(\"Before adding the outliers\")\n",
    "print(df.describe())\n",
    "\n",
    "df[len(df)]=280  # add outliers\n",
    "print(\"After adding the outliers\")\n",
    "print(df.describe())\n"
   ]
  }
 ],
 "metadata": {
  "kernelspec": {
   "display_name": "Python 3 (ipykernel)",
   "language": "python",
   "name": "python3"
  },
  "language_info": {
   "codemirror_mode": {
    "name": "ipython",
    "version": 3
   },
   "file_extension": ".py",
   "mimetype": "text/x-python",
   "name": "python",
   "nbconvert_exporter": "python",
   "pygments_lexer": "ipython3",
   "version": "3.10.8"
  }
 },
 "nbformat": 4,
 "nbformat_minor": 5
}
